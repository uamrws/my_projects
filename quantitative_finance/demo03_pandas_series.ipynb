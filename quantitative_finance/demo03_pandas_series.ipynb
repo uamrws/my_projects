{
 "nbformat": 4,
 "nbformat_minor": 2,
 "metadata": {
  "language_info": {
   "name": "python",
   "codemirror_mode": {
    "name": "ipython",
    "version": 3
   },
   "version": "3.7.5"
  },
  "orig_nbformat": 2,
  "file_extension": ".py",
  "mimetype": "text/x-python",
  "name": "python",
  "npconvert_exporter": "python",
  "pygments_lexer": "ipython3",
  "version": 3
 },
 "cells": [
  {
   "cell_type": "code",
   "execution_count": 2,
   "metadata": {},
   "outputs": [
    {
     "name": "stdout",
     "output_type": "stream",
     "text": "0    4\n1    5\n2    3\n3    8\n4    9\ndtype: int64\na    4\nb    5\nc    3\nd    8\ne    9\ndtype: int64\na    4\nb    5\ndtype: int64\n"
    }
   ],
   "source": [
    "\n",
    "# Series 类似一维数组，可以默认创建以下标做index，也可手动传入\n",
    "# 取值和字典类似\n",
    "import pandas as pd\n",
    "print(pd.Series([4,5,3,8,9]))\n",
    "print(pd.Series([4,5,3,8,9], index=['a','b','c','d','e']))\n",
    "# 可以直接传字典创建\n",
    "print(pd.Series({'a':4,'b':5}))"
   ]
  },
  {
   "cell_type": "code",
   "execution_count": 3,
   "metadata": {},
   "outputs": [
    {
     "name": "stdout",
     "output_type": "stream",
     "text": "4\n4\n[4 5 3 8 9]\nIndex(['a', 'b', 'c', 'd', 'e'], dtype='object')\n"
    }
   ],
   "source": [
    "a = pd.Series([4,5,3,8,9], index=['a','b','c','d','e'])\n",
    "# 既可以用index也可以用下标取值\n",
    "print(a['a'])\n",
    "print(a[0])\n",
    "print(a.values)\n",
    "print(a.index)\n",
    "\n"
   ]
  },
  {
   "cell_type": "code",
   "execution_count": 4,
   "metadata": {},
   "outputs": [
    {
     "name": "stdout",
     "output_type": "stream",
     "text": "a    4\nb    5\nc    3\nd    8\ne    9\ndtype: int64\na     6\nb     7\nc     5\nd    10\ne    11\ndtype: int64\n"
    }
   ],
   "source": [
    "# 计算和取值numpy的ndarray一样\n",
    "a = pd.Series([4,5,3,8,9], index=['a','b','c','d','e'])\n",
    "print(a)\n",
    "print(a+2)"
   ]
  },
  {
   "cell_type": "code",
   "execution_count": 5,
   "metadata": {},
   "outputs": [
    {
     "name": "stdout",
     "output_type": "stream",
     "text": "True\n4\n5\n3\n8\n9\n8\n4\na    4\nc    3\ndtype: int64\nc    3\nd    8\ne    9\ndtype: int64\nc    3\nd    8\ndtype: int64\n"
    }
   ],
   "source": [
    "a = pd.Series([4,5,3,8,9], index=['a','b','c','d','e'])\n",
    "# 判断键是不是在其中\n",
    "print('b' in a)\n",
    "# 遍历series时，遍历的时values\n",
    "for i in a:\n",
    "    print(i)\n",
    "\n",
    "# 支持ndarray的索引和切片方式\n",
    "print(a['d'])\n",
    "# 也可以用下标\n",
    "print(a[0])\n",
    "# 取多个值\n",
    "print(a[['a', 'c']])\n",
    "# 用标签切片的时候，左闭右闭，如果用索引则还是左闭右开\n",
    "print(a['c': 'e'])\n",
    "print(a[2:4])"
   ]
  },
  {
   "cell_type": "code",
   "execution_count": 6,
   "metadata": {},
   "outputs": [
    {
     "name": "stdout",
     "output_type": "stream",
     "text": "19\n10\n"
    }
   ],
   "source": [
    "# 如果series是整数作为索引的话，会因为下标和整数的歧义，有一些特殊之处\n",
    "b = pd.Series(range(0, 20))\n",
    "# 例如，无法使用负数索引,当下标和标签同一类型时，当作标签使用\n",
    "# print(b[-1])\n",
    "# 可以通过使用iloc来定义是使用index，使用loc来定义是使用标签\n",
    "print(b.iloc[-1])\n",
    "print(b.loc[10])"
   ]
  },
  {
   "cell_type": "code",
   "execution_count": 16,
   "metadata": {},
   "outputs": [
    {
     "name": "stdout",
     "output_type": "stream",
     "text": "[2 4 6 8]\na    4\nb    4\nc    4\nd    8\ndtype: int64\na    4.0\nb    4.0\nc    NaN\nd    NaN\ne    NaN\nf    NaN\ndtype: float64\na    4.0\nb    4.0\nc    3.0\nd    4.0\ne    1.0\nf    4.0\ndtype: float64\na    4.0\nb    4.0\ndtype: float64\na    4.0\nb    4.0\ndtype: float64\na    4.0\nb    4.0\ndtype: float64\n"
    },
    {
     "data": {
      "text/plain": "a    4.0\nb    4.0\nc    0.0\nd    0.0\ne    0.0\nf    0.0\ndtype: float64"
     },
     "execution_count": 16,
     "metadata": {},
     "output_type": "execute_result"
    }
   ],
   "source": [
    "a = pd.Series([1,2,3,4], index=list('abcd'))\n",
    "b = pd.Series([1,2,3,4], index=list('cbad'))\n",
    "# Series和ndarray的区别，当两者相加时会以标签而不是下标对其\n",
    "print(a.values+b.values)\n",
    "print(a+b)\n",
    "# 如果两者有无法对应的标签，标签会是缺失数据NaN\n",
    "c = pd.Series([1,2,3,4], index=list('ebaf'))\n",
    "print(a+c)\n",
    "# 如果希望能够将相互缺失的位置补值，可以使用下面的方法\n",
    "# add,sub,mul,div都一样\n",
    "print(a.add(c, fill_value=0))\n",
    "# 如果需要将过滤所有缺失数据,可以使用以下方法\n",
    "print((a+c).dropna())\n",
    "print((a+c)[(a+c).notnull()])\n",
    "print((a+c)[~(a+c).isnull()])\n",
    "# 或者需要填充NaN,可以使用fillna\n",
    "(a+c).fillna(0)"
   ]
  },
  {
   "cell_type": "code",
   "execution_count": null,
   "metadata": {},
   "outputs": [],
   "source": []
  }
 ]
}