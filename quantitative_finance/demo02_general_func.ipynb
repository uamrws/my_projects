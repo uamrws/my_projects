{
 "cells": [
  {
   "cell_type": "code",
   "execution_count": 1,
   "metadata": {},
   "outputs": [
    {
     "name": "stdout",
     "output_type": "stream",
     "text": "[-5.  -4.5 -4.  -3.5 -3.  -2.5 -2.  -1.5 -1.  -0.5  0.   0.5  1.   1.5\n  2.   2.5  3.   3.5  4.   4.5]\n[-5. -4. -4. -4. -3. -2. -2. -2. -1. -0.  0.  0.  1.  2.  2.  2.  3.  4.\n  4.  4.]\n[-5. -4. -4. -4. -3. -2. -2. -2. -1. -0.  0.  0.  1.  2.  2.  2.  3.  4.\n  4.  4.]\n"
    }
   ],
   "source": [
    "import numpy as np\n",
    "# 四舍五入\n",
    "a=np.arange(-5,5,0.5)\n",
    "print(a)\n",
    "print(np.round(a))\n",
    "print(np.rint(a))"
   ]
  },
  {
   "cell_type": "code",
   "execution_count": 2,
   "metadata": {},
   "outputs": [
    {
     "data": {
      "text/plain": "array([-5., -5., -4., -4., -3., -3., -2., -2., -1., -1.,  0.,  0.,  1.,\n        1.,  2.,  2.,  3.,  3.,  4.,  4.])"
     },
     "execution_count": 2,
     "metadata": {},
     "output_type": "execute_result"
    }
   ],
   "source": [
    "# 向下取整\n",
    "np.floor(a)"
   ]
  },
  {
   "cell_type": "code",
   "execution_count": 3,
   "metadata": {},
   "outputs": [
    {
     "data": {
      "text/plain": "array([-5., -4., -4., -3., -3., -2., -2., -1., -1., -0.,  0.,  1.,  1.,\n        2.,  2.,  3.,  3.,  4.,  4.,  5.])"
     },
     "execution_count": 3,
     "metadata": {},
     "output_type": "execute_result"
    }
   ],
   "source": [
    "# 向上取整\n",
    "np.ceil(a)"
   ]
  },
  {
   "cell_type": "code",
   "execution_count": 13,
   "metadata": {},
   "outputs": [
    {
     "data": {
      "text/plain": "array([3., 2., 1., 4., 5.])"
     },
     "execution_count": 13,
     "metadata": {},
     "output_type": "execute_result"
    }
   ],
   "source": [
    "# 向零取整，即按绝对值向下取整\n",
    "np.trunc(a)"
   ]
  },
  {
   "cell_type": "code",
   "execution_count": 15,
   "metadata": {},
   "outputs": [
    {
     "data": {
      "text/plain": "(array([0., 0., 0., 0., 0.]), array([3., 2., 1., 4., 5.]))"
     },
     "execution_count": 15,
     "metadata": {},
     "output_type": "execute_result"
    }
   ],
   "source": [
    "# 分离整数与小数\n",
    "\n",
    "np.modf(a)"
   ]
  },
  {
   "cell_type": "code",
   "execution_count": 6,
   "metadata": {},
   "outputs": [
    {
     "name": "stdout",
     "output_type": "stream",
     "text": "[ 1.  1.  1. nan inf]\n/Users/uamrws/.local/share/virtualenvs/my_projects-1Dd1_YC8/lib/python3.7/site-packages/ipykernel_launcher.py:5: RuntimeWarning: divide by zero encountered in true_divide\n  \"\"\"\n/Users/uamrws/.local/share/virtualenvs/my_projects-1Dd1_YC8/lib/python3.7/site-packages/ipykernel_launcher.py:5: RuntimeWarning: invalid value encountered in true_divide\n  \"\"\"\n"
    },
    {
     "data": {
      "text/plain": "array([1., 1., 1.])"
     },
     "execution_count": 6,
     "metadata": {},
     "output_type": "execute_result"
    }
   ],
   "source": [
    "# 除0不会报错，但是会提示warning，定义除以0为inf\n",
    "# 0除以0定义为nan，not a number\n",
    "a = np.array([1,2,3,0,5])\n",
    "b = np.array([1,2,3,0,0])\n",
    "c=a/b\n",
    "# 可以通过 isnan 和 isinf筛选\n",
    "print(c)\n",
    "c[~(np.isinf(c) | np.isnan(c))]"
   ]
  },
  {
   "cell_type": "code",
   "execution_count": 7,
   "metadata": {},
   "outputs": [
    {
     "data": {
      "text/plain": "array([3, 2, 3, 5, 5])"
     },
     "execution_count": 7,
     "metadata": {},
     "output_type": "execute_result"
    }
   ],
   "source": [
    "# 取两个数组中各自位置最大的数,重新构建新数组，两个数组必须大小相同\n",
    "a = np.array([3,2,1,4,5])\n",
    "b = np.array([1,2,3,5,4])\n",
    "\n",
    "np.maximum(a,b)"
   ]
  },
  {
   "cell_type": "code",
   "execution_count": 10,
   "metadata": {},
   "outputs": [
    {
     "name": "stdout",
     "output_type": "stream",
     "text": "[ 3  5  6 10 15]\n3.0\n"
    }
   ],
   "source": [
    "# 获取数组的前缀和,累计和\n",
    "print(a.cumsum())\n",
    "# 获取数组的平均值\n",
    "print(a.mean())"
   ]
  },
  {
   "cell_type": "code",
   "execution_count": 10,
   "metadata": {},
   "outputs": [
    {
     "name": "stdout",
     "output_type": "stream",
     "text": "6\n0.45578422607008306\n"
    }
   ],
   "source": [
    "# 获取随机数,和random模块类似\n",
    "print(np.random.randint(1,10))\n",
    "print(np.random.uniform(0,2))"
   ]
  },
  {
   "cell_type": "code",
   "execution_count": null,
   "metadata": {
    "collapsed": false,
    "pycharm": {
     "name": "#%%\n"
    }
   },
   "outputs": [],
   "source": [
    "\n"
   ]
  }
 ],
 "metadata": {
  "kernelspec": {
   "display_name": "Python 3",
   "language": "python",
   "name": "python3"
  },
  "language_info": {
   "codemirror_mode": {
    "name": "ipython",
    "version": 3
   },
   "file_extension": ".py",
   "mimetype": "text/x-python",
   "name": "python",
   "nbconvert_exporter": "python",
   "pygments_lexer": "ipython3",
   "version": "3.7.5"
  },
  "pycharm": {
   "stem_cell": {
    "cell_type": "raw",
    "source": [],
    "metadata": {
     "collapsed": false
    }
   }
  }
 },
 "nbformat": 4,
 "nbformat_minor": 1
}