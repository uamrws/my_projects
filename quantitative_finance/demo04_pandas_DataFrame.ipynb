{
 "nbformat": 4,
 "nbformat_minor": 2,
 "metadata": {
  "language_info": {
   "name": "python",
   "codemirror_mode": {
    "name": "ipython",
    "version": 3
   },
   "version": "3.7.5"
  },
  "orig_nbformat": 2,
  "file_extension": ".py",
  "mimetype": "text/x-python",
  "name": "python",
  "npconvert_exporter": "python",
  "pygments_lexer": "ipython3",
  "version": 3,
  "pycharm": {
   "stem_cell": {
    "cell_type": "raw",
    "source": [],
    "metadata": {
     "collapsed": false
    }
   }
  },
  "kernelspec": {
   "name": "python3",
   "language": "python",
   "display_name": "Python 3"
  }
 },
 "cells": [
  {
   "cell_type": "code",
   "execution_count": 1,
   "metadata": {
    "pycharm": {
     "is_executing": false
    }
   },
   "outputs": [
    {
     "name": "stdout",
     "text": [
      "   one  two\n",
      "0    1    3\n",
      "1    2    4\n",
      "2    3    5\n",
      "   one  two\n",
      "b    2    1\n",
      "c    3    2\n",
      "a    1    3\n"
     ],
     "output_type": "stream"
    }
   ],
   "source": [
    "# DataFrame是一个表格类型的数据结构，它含有一组有序的列。\n",
    "import pandas as pd\n",
    "\n",
    "# 构造方法多种,一般很少通过手动创建，一般通过读取csv文件\n",
    "a = pd.DataFrame({'one': [1, 2, 3], 'two': [3, 4, 5]})\n",
    "print(a)\n",
    "b = pd.DataFrame({'one': pd.Series([1, 2, 3],index=('a','b','c')), 'two': pd.Series([1, 2, 3],index=('b','c','a'))}, index=('b','c','a'))\n",
    "print(b)"
   ]
  },
  {
   "cell_type": "code",
   "execution_count": 4,
   "metadata": {
    "pycharm": {
     "is_executing": false
    }
   },
   "outputs": [
    {
     "name": "stdout",
     "text": [
      "               id        open       close       high         low  \\\n",
      "count  731.000000  731.000000  731.000000  731.00000  731.000000   \n",
      "mean   365.000000    4.532996    4.533899    4.60249    4.467004   \n",
      "std    211.165812    1.302801    1.307910    1.34737    1.267604   \n",
      "min      0.000000    0.000000    0.000000    0.00000    0.000000   \n",
      "25%    182.500000    3.530000    3.530000    3.57000    3.490000   \n",
      "50%    365.000000    4.200000    4.210000    4.25000    4.150000   \n",
      "75%    547.500000    5.255000    5.255000    5.36500    5.170000   \n",
      "max    730.000000    8.260000    8.330000    8.44000    7.920000   \n",
      "\n",
      "             volume      code  \n",
      "count  7.310000e+02     731.0  \n",
      "mean   6.078336e+07  600008.0  \n",
      "std    1.119704e+08       0.0  \n",
      "min    0.000000e+00  600008.0  \n",
      "25%    1.252563e+07  600008.0  \n",
      "50%    2.284142e+07  600008.0  \n",
      "75%    5.252214e+07  600008.0  \n",
      "max    9.810780e+08  600008.0  \n",
      "RangeIndex(start=0, stop=731, step=1)\n",
      "Index(['id', 'date', 'open', 'close', 'high', 'low', 'volume', 'code'], dtype='object')\n",
      "[[0 '2019-11-29' 3.26 ... 3.25 5713621 600008]\n",
      " [1 '2019-11-28' 3.27 ... 3.25 7476789 600008]\n",
      " [2 '2019-11-27' 3.25 ... 3.24 6066800 600008]\n",
      " ...\n",
      " [728 '2016-12-05' 4.24 ... 4.23 21757105 600008]\n",
      " [729 '2016-12-02' 4.34 ... 4.26 29553027 600008]\n",
      " [730 '2016-12-01' 4.3 ... 4.29 32510188 600008]]\n",
      "               0           1           2           3           4    \\\n",
      "id               0           1           2           3           4   \n",
      "date    2019-11-29  2019-11-28  2019-11-27  2019-11-26  2019-11-25   \n",
      "open          3.26        3.27        3.25        3.27        3.24   \n",
      "close         3.28        3.26        3.26        3.26        3.27   \n",
      "high          3.28        3.28        3.28        3.29        3.29   \n",
      "low           3.25        3.25        3.24        3.25        3.21   \n",
      "volume     5713621     7476789     6066800     7244691    10309838   \n",
      "code        600008      600008      600008      600008      600008   \n",
      "\n",
      "               5           6           7           8           9    ...  \\\n",
      "id               5           6           7           8           9  ...   \n",
      "date    2019-11-22  2019-11-21  2019-11-20  2019-11-19  2019-11-18  ...   \n",
      "open          3.24        3.21        3.26        3.21        3.17  ...   \n",
      "close         3.24        3.24        3.22        3.25        3.19  ...   \n",
      "high          3.28        3.24        3.26        3.25        3.21  ...   \n",
      "low           3.23         3.2        3.21        3.19        3.15  ...   \n",
      "volume     8561200     4606950     5749422     7484334     6900498  ...   \n",
      "code        600008      600008      600008      600008      600008  ...   \n",
      "\n",
      "               721         722         723         724         725  \\\n",
      "id             721         722         723         724         725   \n",
      "date    2016-12-14  2016-12-13  2016-12-12  2016-12-09  2016-12-08   \n",
      "open          4.09        4.07        4.23        4.25        4.28   \n",
      "close         4.09        4.09        4.08        4.23        4.25   \n",
      "high          4.11        4.12        4.25        4.26        4.31   \n",
      "low           4.07        4.04        4.07        4.22        4.24   \n",
      "volume    13563411    18603609    37569636    20620011    23982148   \n",
      "code        600008      600008      600008      600008      600008   \n",
      "\n",
      "               726         727         728         729         730  \n",
      "id             726         727         728         729         730  \n",
      "date    2016-12-07  2016-12-06  2016-12-05  2016-12-02  2016-12-01  \n",
      "open          4.25        4.26        4.24        4.34         4.3  \n",
      "close         4.27        4.26        4.24        4.26        4.35  \n",
      "high          4.27        4.28         4.3        4.35        4.39  \n",
      "low           4.23        4.24        4.23        4.26        4.29  \n",
      "volume    16495972    13751588    21757105    29553027    32510188  \n",
      "code        600008      600008      600008      600008      600008  \n",
      "\n",
      "[8 rows x 731 columns]\n"
     ],
     "output_type": "stream"
    }
   ],
   "source": [
    "\n",
    "df = pd.read_csv('/Users/uamrws/Desktop/my_projects/quantitative_finance/stock.csv')\n",
    "# 快速统计\n",
    "print(df.describe())\n",
    "# 行索引\n",
    "print(df.index)\n",
    "# 列索引\n",
    "print(df.columns)\n",
    "# 二维数组\n",
    "print(df.values)\n",
    "# 倒置\n",
    "print(df.T)\n",
    "# 重命名\n"
   ]
  }
 ]
}
