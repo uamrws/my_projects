{
 "cells": [
  {
   "cell_type": "markdown",
   "metadata": {},
   "source": [
    "# Practice with New Objects\n"
   ]
  },
  {
   "cell_type": "markdown",
   "metadata": {},
   "source": [
    "## Practice with Dictionaries"
   ]
  },
  {
   "cell_type": "markdown",
   "metadata": {},
   "source": [
    "From the dictionary, produce a list of strings, where each element in the list is a last name.  Your code should work for an arbitrary dictionary formatted as given below. Please print Last names in the dictionary."
   ]
  },
  {
   "cell_type": "code",
   "execution_count": 7,
   "metadata": {},
   "outputs": [
    {
     "name": "stdout",
     "output_type": "stream",
     "text": [
      "1\n",
      "2\n",
      "3\n",
      "4\n",
      "5\n",
      "The last name for the person # 1 is Tutun\n",
      "1\n",
      "2\n",
      "3\n",
      "4\n",
      "5\n",
      "6\n",
      "The last name for the person # 2 is Jake\n",
      "The last names are ['Tutun', 'Jake']\n"
     ]
    }
   ],
   "source": [
    "d = {1: \"Salih Tutun\", 2 : \"Dennis Jake\"}\n",
    "\n",
    "#Write your code here\n",
    "last_names = []\n",
    "last_name = []\n",
    "for i in d:\n",
    "    full_name = d[i] #\"Salih Tutun\"\n",
    "    m = 0\n",
    "    for j in full_name:\n",
    "        if j == \" \":\n",
    "            space_index = m\n",
    "            break\n",
    "        m=m+1\n",
    "        print(m)\n",
    "    last_name = full_name[space_index+1:]\n",
    "    last_names+=[full_name[space_index+1:]]\n",
    "    print(f'The last name for the person # {i} is {last_name}')\n",
    "print(f'The last names are {last_names}')\n"
   ]
  },
  {
   "cell_type": "markdown",
   "metadata": {},
   "source": [
    "Consider the following dictionary D of scores.  From this dictionary, produce another dictionary where the keys are the names and the values are the average scores."
   ]
  },
  {
   "cell_type": "code",
   "execution_count": 1,
   "metadata": {},
   "outputs": [
    {
     "name": "stdout",
     "output_type": "stream",
     "text": [
      "The new dictory is {'Jake': 88.5, 'Charlie': 99.67, 'Ellen': 90.0}\n"
     ]
    }
   ],
   "source": [
    "# creating a new dictionary \n",
    "D = {\"Jake\" : [99,87,91, 77], \"Charlie\" : [100,100,99], \"Ellen\" : [95,70, 85,100,100]}\n",
    "\n",
    "#Write your code here\n",
    "D_new = {}\n",
    "\n",
    "for key in D:\n",
    "    scores=D[key]\n",
    "    avg_scores = sum(scores)/len(scores)\n",
    "    D_new[key] = round(avg_scores, 2)\n",
    "print(f\"The new dictory is {D_new}\")"
   ]
  },
  {
   "cell_type": "code",
   "execution_count": 2,
   "metadata": {},
   "outputs": [
    {
     "name": "stdout",
     "output_type": "stream",
     "text": [
      "The new dictory is {'Jake': 88.5, 'Charlie': 99.66666666666667, 'Ellen': 90.0}\n"
     ]
    }
   ],
   "source": [
    "my_dict = {(\"Jake\",1) : 100, (\"Charlie\",2) : 200, (\"Ellen\",3) : 300}  \n",
    "# list out keys and values separately \n",
    " \n",
    "D_new = {}\n",
    "\n",
    "for key in D:\n",
    "    avg_scores = sum(D[key])/len(D[key])\n",
    "    D_new[key] = avg_scores\n",
    "print(f\"The new dictory is {D_new}\")\n",
    "    \n",
    "# one-liner \n",
    "#print(list(my_dict.keys())[list(my_dict.values()).index(200)]) "
   ]
  },
  {
   "cell_type": "markdown",
   "metadata": {},
   "source": [
    "Write the code to check whether the inputted sentence is a pangram, meaning that it contains all 26 letters.  "
   ]
  },
  {
   "cell_type": "code",
   "execution_count": 15,
   "metadata": {},
   "outputs": [
    {
     "name": "stdout",
     "output_type": "stream",
     "text": [
      "['t', 'h', 'e', 'q', 'u', 'i', 'c', 'k', 'b', 'r', 'o', 'w', 'n', 'f', 'x', 'j', 'm', 'p', 's', 'v', 'l', 'a', 'z', 'y', 'd', 'g']\n",
      "26\n",
      "The given sentence is a panram.\n"
     ]
    }
   ],
   "source": [
    "sentence = \"the quick brown fox jumps over the lazy dog\"\n",
    "#Write your code here\n",
    "\n",
    "a_list=[]\n",
    "for i in range(len(sentence)):\n",
    "    if sentence[i] != \" \" and sentence[i] not in a_list:\n",
    "        a_list.append(sentence[i])\n",
    "print(a_list)\n",
    "print(len(a_list))\n",
    "if len(a_list) == 26:\n",
    "    print(\"The given sentence is a panram.\")\n",
    "else:\n",
    "    print(\"The given sentence is not a panram.\")"
   ]
  },
  {
   "cell_type": "markdown",
   "metadata": {},
   "source": [
    "## Practice with String Methods\n",
    "\n",
    "Use the **count** method to count the number of times that str1 appears in str2."
   ]
  },
  {
   "cell_type": "code",
   "execution_count": 18,
   "metadata": {},
   "outputs": [
    {
     "name": "stdout",
     "output_type": "stream",
     "text": [
      "2\n"
     ]
    }
   ],
   "source": [
    "str1 = \"co\"\n",
    "str2 = \"coding in school is cool\"\n",
    "#Write your code here\n",
    "\n",
    "s=\"coding in school is cool\"\n",
    "sb='co'\n",
    "\n",
    "results=0\n",
    "sub_len=len(sb)\n",
    "\n",
    "for i in range(len(s)):\n",
    "    if s[i:i+sub_len] == sb:\n",
    "        results+=1\n",
    "        \n",
    "print(results)"
   ]
  },
  {
   "cell_type": "markdown",
   "metadata": {},
   "source": [
    "Count the number of words that start with a vowel (a,e,i,o,u) in the following sentences.  The code should work for any sentence. The **split**, **replace** and **lower** methods will be useful here."
   ]
  },
  {
   "cell_type": "code",
   "execution_count": 19,
   "metadata": {},
   "outputs": [
    {
     "data": {
      "text/plain": [
       "7"
      ]
     },
     "execution_count": 19,
     "metadata": {},
     "output_type": "execute_result"
    }
   ],
   "source": [
    "sentence = \"\"\"Jake likes to eat apples. So, he went to the store to acquire some. \n",
    "He used his coupons and then he declared: I love apples.\"\"\"\n",
    "\n",
    "#Write your code here\n",
    "words = sentence.replace(\".\",\"\").replace(\".\",\"\").replace(\".\",\"\").replace(\"\\n\",\"\").lower().split(\" \")\n",
    "\n",
    "count_vowels = 0\n",
    "\n",
    "for word in words:\n",
    "    if word[0] in [\"a\",\"e\",\"i\",\"o\",\"u\"]:\n",
    "        count_vowels+=1\n",
    "\n",
    "count_vowels"
   ]
  },
  {
   "cell_type": "markdown",
   "metadata": {},
   "source": [
    "\n",
    "## Practice with List Methods\n",
    " \n",
    "Store all of the words with more than 5 letters in a list. Use the **append** method for lists and the **strip** method for strings to get rid of punctuation."
   ]
  },
  {
   "cell_type": "code",
   "execution_count": 21,
   "metadata": {},
   "outputs": [
    {
     "name": "stdout",
     "output_type": "stream",
     "text": [
      "jake likes to eat apples so he went to the store to acquire some he used his coupons and then he declared: i love apples\n",
      "['jake', 'likes', 'to', 'eat', 'apples', 'so', 'he', 'went', 'to', 'the', 'store', 'to', 'acquire', 'some', 'he', 'used', 'his', 'coupons', 'and', 'then', 'he', 'declared:', 'i', 'love', 'apples']\n",
      "7\n"
     ]
    }
   ],
   "source": [
    "sentence = \"\"\"Jake likes to eat apples. So, he went to the store to acquire some. \n",
    "He used his coupons and then he declared: I love apples.\"\"\"\n",
    "\n",
    "#Write you code here\n",
    "sen = sentence.lower()\n",
    "sen = sen.replace(\".\",\"\")\n",
    "sen = sen.replace(\",\",\"\")\n",
    "sen = sen.replace(\".\",\"\")\n",
    "sen = sen.replace(\"\\n\",\"\")\n",
    "print(sen)\n",
    "sen_list = sen.split(sep=None,maxsplit=-1)\n",
    "print(sen_list)\n",
    "count = 0\n",
    "v_list = [\"a\",\"e\",\"i\",\"o\",\"u\"]\n",
    "for item in sen_list:\n",
    "    if item[0] in v_list:\n",
    "        count += 1\n",
    "print(count)"
   ]
  },
  {
   "cell_type": "markdown",
   "metadata": {},
   "source": [
    "From the list L, created a list of lists called Q, which slices around the number 4. For example, if  L = [1,2,3,4,5,6], then Q = [[1,2,3], [5,6]].  The code should work for general L with a single 4. Use the **index** and **append** methods. "
   ]
  },
  {
   "cell_type": "code",
   "execution_count": 22,
   "metadata": {},
   "outputs": [
    {
     "data": {
      "text/plain": [
       "[[1, 2, 3], [6, 5, 4, 10, 3]]"
      ]
     },
     "execution_count": 22,
     "metadata": {},
     "output_type": "execute_result"
    }
   ],
   "source": [
    "L=[1,2,3,4,6,5,4, 10,3]\n",
    "\n",
    "#Write you code here\n",
    "\n",
    "Q = []\n",
    "find_four=L.index(4)\n",
    "first=L[0:find_four]\n",
    "second=L[find_four+1:]\n",
    "Q.append(first)\n",
    "Q.append(second)\n",
    "Q"
   ]
  },
  {
   "cell_type": "code",
   "execution_count": null,
   "metadata": {},
   "outputs": [],
   "source": []
  }
 ],
 "metadata": {
  "kernelspec": {
   "display_name": "Python 3",
   "language": "python",
   "name": "python3"
  },
  "language_info": {
   "codemirror_mode": {
    "name": "ipython",
    "version": 3
   },
   "file_extension": ".py",
   "mimetype": "text/x-python",
   "name": "python",
   "nbconvert_exporter": "python",
   "pygments_lexer": "ipython3",
   "version": "3.8.8"
  },
  "toc": {
   "colors": {
    "hover_highlight": "#DAA520",
    "navigate_num": "#000000",
    "navigate_text": "#333333",
    "running_highlight": "#FF0000",
    "selected_highlight": "#FFD700",
    "sidebar_border": "#EEEEEE",
    "wrapper_background": "#FFFFFF"
   },
   "moveMenuLeft": true,
   "nav_menu": {
    "height": "66px",
    "width": "252px"
   },
   "navigate_menu": true,
   "number_sections": true,
   "sideBar": true,
   "skip_h1_title": false,
   "threshold": 4,
   "toc_cell": false,
   "toc_position": {},
   "toc_section_display": "block",
   "toc_window_display": false,
   "widenNotebook": false
  }
 },
 "nbformat": 4,
 "nbformat_minor": 2
}
