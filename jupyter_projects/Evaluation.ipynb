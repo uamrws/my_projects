{
 "cells": [
  {
   "cell_type": "markdown",
   "metadata": {},
   "source": [
    "# Evaluating the Solutions for the Smart Logistic Problem in Amazon"
   ]
  },
  {
   "cell_type": "markdown",
   "metadata": {},
   "source": [
    "Note:Please make sure that you are using unique codes because this problem is different with previous midterm projects. \n",
    "Please watch the recorded video for understanding the problem. "
   ]
  },
  {
   "cell_type": "markdown",
   "metadata": {},
   "source": [
    "Part 1"
   ]
  },
  {
   "cell_type": "markdown",
   "metadata": {},
   "source": [
    "### First lets generate the 280 random knapsack sizes and write the results to a csv"
   ]
  },
  {
   "cell_type": "code",
   "execution_count": 1,
   "metadata": {},
   "outputs": [],
   "source": [
    "import numpy as np\n",
    "#you can only use numpy package for this problem. \n",
    "\n",
    "knap_sizes = []\n",
    "while len(knap_sizes)<280:\n",
    "    _ = np.random.normal(130, 30)\n",
    "    if 100<= _ <=150:\n",
    "        knap_sizes.append(str(_))\n",
    "'''you will generate 280 capacities for each instance. It will be between 100-150. You will use normal distribution as mean:130 and standart deviation:30'''\n",
    "\n",
    "f = open(\"Knap_Sizes.csv\", \"w\") # We will create this file.\n",
    "\n",
    "f.write(\"\\n\".join(knap_sizes))\n",
    "    \n",
    "f.close()"
   ]
  },
  {
   "cell_type": "markdown",
   "metadata": {},
   "source": [
    "Part 2"
   ]
  },
  {
   "cell_type": "markdown",
   "metadata": {},
   "source": [
    "### Last, let us evaluate the solution file based on the randomly generated knapsack sizes. "
   ]
  },
  {
   "cell_type": "code",
   "execution_count": 2,
   "metadata": {
    "tags": []
   },
   "outputs": [
    {
     "data": {
      "text/plain": "[269.15,\n 229.44,\n 287.1,\n 235.11,\n 231.39999999999998,\n 266.29999999999995,\n 221.82999999999998,\n 237.51,\n 212.39,\n 257.81,\n 224.73000000000002,\n 280.96,\n 190.82000000000002,\n 268.86,\n 209.31,\n 272.27,\n 238.8,\n 200.52999999999997,\n 260.01,\n 188.26999999999998,\n 223.47000000000003,\n 256.72,\n 206.92000000000002,\n 264.24,\n 258.3,\n 222.63000000000002,\n 204.18,\n 194.09,\n 224.50999999999996,\n 217.35,\n 203.65,\n 188.25,\n 274.71,\n 284.62,\n 211.56,\n 239.42999999999998,\n 237.92999999999998,\n 299.15,\n 289.28999999999996,\n 251.66,\n 222.01999999999998,\n 247.84,\n 235.41,\n 194.76000000000002,\n 274.63,\n 241.54000000000002,\n 297.0,\n 204.89999999999998,\n 245.3,\n 262.46,\n 227.87,\n 342.01,\n 235.60000000000002,\n 216.4,\n 244.01999999999998,\n 224.04999999999998,\n 199.84,\n 223.09,\n 296.66999999999996,\n 246.39,\n 189.42000000000002,\n 235.99,\n 235.41000000000003,\n 194.12,\n 277.98,\n 210.04000000000002,\n 243.26,\n 243.38,\n 276.63,\n 201.07,\n 187.59,\n 190.48000000000002,\n 264.88,\n 233.91,\n 290.53,\n 221.45,\n 250.53,\n 184.19,\n 230.28,\n 188.39000000000001,\n 250.11,\n 171.85,\n 184.17999999999998,\n 212.19,\n 256.24,\n 232.7,\n 185.67,\n 275.12,\n 217.04,\n 219.37,\n 206.32,\n 240.42000000000002,\n 245.02,\n 216.42,\n 264.13,\n 196.94,\n 227.09,\n 264.97,\n 194.56,\n 241.79,\n 240.18,\n 208.17,\n 215.42,\n 219.23000000000002,\n 160.32,\n 254.17000000000002,\n 218.42,\n 258.91,\n 173.61,\n 293.43,\n 216.63,\n 253.81,\n 211.49,\n 218.56,\n 249.72,\n 227.58999999999997,\n 302.11,\n 291.61999999999995,\n 239.69,\n 245.59000000000003,\n 213.29,\n 344.28999999999996,\n 265.77,\n 261.76,\n 205.88,\n 213.22000000000003,\n 178.29,\n 292.21999999999997,\n 211.74,\n 177.34,\n 236.05,\n 231.25,\n 274.06000000000006,\n 222.42000000000002,\n 222.49,\n 255.85,\n 189.34000000000003,\n 245.91,\n 220.67999999999998,\n 168.43,\n 243.97,\n 302.56,\n 188.44,\n 268.66,\n 261.25,\n 202.17999999999998,\n 215.06,\n 197.57,\n 237.21,\n 191.56999999999996,\n 213.49999999999997,\n 255.95999999999998,\n 244.55,\n 216.89,\n 273.84999999999997,\n 207.31,\n 293.21999999999997,\n 222.10999999999999,\n 214.77,\n 269.58000000000004,\n 211.07999999999998,\n 240.94,\n 279.15000000000003,\n 176.42000000000002,\n 237.63,\n 250.82000000000002,\n 256.83,\n 306.99,\n 255.28999999999996,\n 262.3,\n 211.11,\n 241.58999999999997,\n 272.71,\n 264.84,\n 245.02,\n 275.04,\n 266.29,\n 214.36,\n 281.09999999999997,\n 280.5,\n 271.46,\n 235.2,\n 225.68,\n 218.28000000000003,\n 180.14,\n 252.26000000000002,\n 246.68,\n 186.64999999999998,\n 240.73,\n 258.47,\n 192.21,\n 234.63,\n 250.60000000000002,\n 255.75,\n 199.96,\n 249.52999999999997,\n 241.07999999999998,\n 255.82,\n 234.24,\n 274.01,\n 193.92,\n 283.43,\n 191.10000000000002,\n 237.14,\n 225.57999999999998,\n 205.81,\n 249.85,\n 230.16,\n 160.63,\n 252.97,\n 206.83999999999997,\n 310.37,\n 221.99,\n 237.27999999999997,\n 207.13,\n 264.13,\n 270.14,\n 278.83,\n 186.9,\n 230.31,\n 210.86,\n 192.72,\n 259.98,\n 266.89,\n 265.94,\n 291.82,\n 238.85999999999999,\n 211.53,\n 278.19,\n 251.61,\n 285.73,\n 248.20000000000002,\n 229.9,\n 215.79,\n 249.33,\n 245.29999999999998,\n 203.9,\n 271.84,\n 231.82999999999998,\n 199.99,\n 222.03,\n 160.35000000000002,\n 183.23999999999998,\n 212.68,\n 255.8,\n 296.46,\n 233.34,\n 263.09000000000003,\n 198.0,\n 268.57,\n 211.82,\n 236.76000000000002,\n 334.31,\n 247.14000000000001,\n 260.14,\n 195.90000000000003,\n 221.23000000000002,\n 177.3,\n 289.70000000000005,\n 353.57,\n 217.02,\n 247.69000000000003,\n 237.32999999999998,\n 310.81,\n 198.84,\n 190.94,\n 285.46000000000004,\n 208.92000000000002,\n 197.89000000000001,\n 236.82,\n 283.85,\n 263.04,\n 231.74,\n 267.64,\n 206.56,\n 248.5,\n 252.97,\n 221.86,\n 249.53,\n 205.35000000000002]"
     },
     "execution_count": 2,
     "metadata": {},
     "output_type": "execute_result"
    }
   ],
   "source": [
    "from collections import defaultdict\n",
    "submitted_file_path = \"test_knapsack_solution.csv\"\n",
    "\n",
    "def Evaluate_Sol(file_path):\n",
    "    with open(\"Knap_Sizes.csv\") as f:\n",
    "        knap_sizes = [float(i.strip()) for i in f.readlines()]\n",
    "    with open(file_path) as f:\n",
    "        instances = f.readlines()\n",
    "        if len(instances) < 840:\n",
    "            instances.append(\"\")\n",
    "\n",
    "    ''' we have 280 instances and one instance has 3 rows on the dataset. So, we will iterate for 840'''\n",
    "    final_results = []\n",
    "    for i in range(0, 840, 3):\n",
    "        weights = list(map(int, instances[i].strip('\\n').split(',')))\n",
    "        rewards = list(map(float, instances[i + 1].strip('\\n').split(',')))\n",
    "        capacity = knap_sizes[i // 3]\n",
    "        results = np.zeros((len(weights) + 1, int(capacity)))\n",
    "        decisions_map = defaultdict(list)\n",
    "        for x in range(1, len(weights) + 1):\n",
    "            for c in range(1, int(capacity)):\n",
    "                w = weights[x - 1]\n",
    "                r = rewards[x - 1]\n",
    "                if w <= c:\n",
    "                    value = r + results[x - 1, c - w]\n",
    "                    if value > results[x - 1, c]:\n",
    "                        results[x, c] = value\n",
    "                        decisions_map[x, c].append(x)\n",
    "                        decisions_map[x, c].extend(decisions_map[x - 1, c - w])\n",
    "                    else:\n",
    "                        results[x, c] = results[x - 1, c]\n",
    "                        decisions_map[x, c] = decisions_map[x - 1, c]\n",
    "                else:\n",
    "                    results[x, c] = results[x - 1, c]\n",
    "                    decisions_map[x, c] = decisions_map[x - 1, c]\n",
    "\n",
    "        final_results.append(results[len(weights), int(capacity) - 1])\n",
    "        decisions = [\"0\"] * len(weights)\n",
    "        for idx in decisions_map[len(weights), int(capacity) - 1]:\n",
    "            decisions[idx - 1] = \"1\"\n",
    "        instances[i + 2] = \",\".join(decisions) + \"\\n\"\n",
    "\n",
    "    with open(file_path, \"w\") as f:\n",
    "        for line in instances:\n",
    "            f.write(line)\n",
    "\n",
    "    return final_results\n",
    "    \n",
    "final_results = Evaluate_Sol(submitted_file_path)\n",
    "final_results\n"
   ]
  },
  {
   "cell_type": "markdown",
   "metadata": {},
   "source": [
    "Note: This result could be change for each group because we are using random numbers. But, the results are supposed to be different and in an acceptable range. "
   ]
  },
  {
   "cell_type": "markdown",
   "metadata": {},
   "source": [
    "Note: Please submit all files (Knap_Sizes, test_knapsack_solution, and Evaluation.ipynp files) as one zip file on the canvas. Please add IDs on the zip file. For example, 14325_34672_12345.zip"
   ]
  }
 ],
 "metadata": {
  "kernelspec": {
   "display_name": "Python 3",
   "language": "python",
   "name": "python3"
  },
  "language_info": {
   "codemirror_mode": {
    "name": "ipython",
    "version": 3
   },
   "file_extension": ".py",
   "mimetype": "text/x-python",
   "name": "python",
   "nbconvert_exporter": "python",
   "pygments_lexer": "ipython3",
   "version": "3.8.5"
  },
  "toc": {
   "nav_menu": {
    "height": "30px",
    "width": "252px"
   },
   "number_sections": true,
   "sideBar": true,
   "skip_h1_title": false,
   "toc_cell": false,
   "toc_position": {},
   "toc_section_display": "block",
   "toc_window_display": false
  }
 },
 "nbformat": 4,
 "nbformat_minor": 4
}