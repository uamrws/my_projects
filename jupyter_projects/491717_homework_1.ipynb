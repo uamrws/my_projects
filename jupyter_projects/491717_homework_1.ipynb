{
 "cells": [
  {
   "cell_type": "markdown",
   "metadata": {
    "deletable": false,
    "editable": false,
    "nbgrader": {
     "checksum": "7d44ba32e6f4fa05f666c6ca59eeafcb",
     "grade": false,
     "grade_id": "cell-a4c41f39205051c2",
     "locked": true,
     "schema_version": 1,
     "solution": false
    }
   },
   "source": [
    "# Homework 1\n",
    "\n",
    "\n",
    "## Problem 1 (If-statment)\n",
    "\n",
    "If statement:\n",
    "\n",
    "Given an integer n, perform the following conditional actions:\n",
    "\n",
    "    If n is odd, set output to \"Hello World\"\n",
    "    If n is even and in the inclusive range of 2 to 5, set output to \"Goodbye World\"\n",
    "    If n is even and in the inclusive range of 6 to 20, set output to \"Hello World\"\n",
    "    If n is even and greater than 20, set output to \"Goodbye World\"\n",
    "\n",
    "Example:\n",
    "\n",
    "    -- Input: n = 2\n",
    "    -- Output: output = \"Goodbye World\""
   ]
  },
  {
   "cell_type": "code",
   "execution_count": 30,
   "metadata": {
    "deletable": false,
    "nbgrader": {
     "checksum": "aa515f7b452c349aea8b934f4af15e0b",
     "grade": false,
     "grade_id": "cell-b78086c290d4a60c",
     "locked": false,
     "schema_version": 1,
     "solution": true
    }
   },
   "outputs": [],
   "source": [
    "def problem1(n):\n",
    "    output = 0\n",
    "    \n",
    "    if n%2 == 1:\n",
    "        output = \"Hello World\"\n",
    "    elif n%2 == 0 and n in range (2,6):\n",
    "        output = \"Goodbye World\"\n",
    "    elif n%2 == 0 and n in range (6,21):\n",
    "        output =  \"Hello World\"\n",
    "    elif n%2 == 0 and n > 20:\n",
    "        output =  \"Goodbye World\"\n",
    "    \n",
    "    return(output)"
   ]
  },
  {
   "cell_type": "code",
   "execution_count": 31,
   "metadata": {
    "deletable": false,
    "editable": false,
    "nbgrader": {
     "checksum": "62cfc000ae61270d2be32995408b867c",
     "grade": true,
     "grade_id": "cell-2853176972493b6e",
     "locked": true,
     "points": 25,
     "schema_version": 1,
     "solution": false
    }
   },
   "outputs": [],
   "source": [
    "assert problem1(3) == \"Hello World\"\n",
    "assert problem1(2) == \"Goodbye World\"\n",
    "assert problem1(18) == \"Hello World\""
   ]
  },
  {
   "cell_type": "code",
   "execution_count": 26,
   "metadata": {
    "deletable": false,
    "editable": false,
    "nbgrader": {
     "checksum": "d8f8125d13f086c6af26f122785d5b33",
     "grade": true,
     "grade_id": "cell-b16dd3056b5a9f95",
     "locked": true,
     "points": 25,
     "schema_version": 1,
     "solution": false
    }
   },
   "outputs": [],
   "source": [
    "assert problem1(29) == \"Hello World\"\n",
    "assert problem1(24) == \"Goodbye World\""
   ]
  },
  {
   "cell_type": "markdown",
   "metadata": {
    "deletable": false,
    "editable": false,
    "nbgrader": {
     "checksum": "de6c5ee2bd77c081cf9691ce2ff16c80",
     "grade": false,
     "grade_id": "cell-1c14a1786a26dc5a",
     "locked": true,
     "schema_version": 1,
     "solution": false
    }
   },
   "source": [
    "## Problem 2 (For-loop, basic list manipulation)\n",
    "\n",
    "You and $K-1$ friends want to buy $N$ different pieces of candy.  Candy piece $i$ costs $p_i$. The candy shop owner is greedy and wants to maximize his number of new customers, so he increases the sale price of the candy for repeated customers; more precisely, if a customer has already purchased $x$ pieces of candy, then the cost of candy $i$ is $C_i*(x+1)$.\n",
    "\n",
    "Find and print the minimum cost for your group to purchase all $N$ pieces of candy.\n",
    "\n",
    "The input:\n",
    "\n",
    "    N: the number of candies to buy\n",
    "    K: the number of people\n",
    "    C: the cost of candy\n",
    "\n",
    "The output:\n",
    "\n",
    "    the total cost\n",
    "\n",
    "**Hint:** You may want to use the list comprehension function.\n",
    "\n",
    "\n",
    "Example:\n",
    "\n",
    "    --Input: \n",
    "        N = 4\n",
    "        K = 2\n",
    "        C = [1,3,4,5]\n",
    "\n",
    "    --Output:\n",
    "        cost = 4 + 5 + 3 * 2 + 1 * 2 = 17\n",
    "\n",
    "(Why 17 is the minimum cost in this case? You would always like your group to purchase the most expensive candies first. In this way, you will get the multipliers on candy costs for the cheap candies. In this case, two people in your group first purchase candies with costs 4 and 5. And then they will purchase candies with costs 3 and 1. When purchasing candies with costs 3 and 1, both of persons in your group are repeated customers, so they pay 3\\*2 and 1\\*2.)\n",
    "\n"
   ]
  },
  {
   "cell_type": "code",
   "execution_count": 1,
   "metadata": {
    "deletable": false,
    "nbgrader": {
     "checksum": "7725000c9ee29de705fef155ca5d9a8b",
     "grade": false,
     "grade_id": "cell-562beecb93f03f23",
     "locked": false,
     "schema_version": 1,
     "solution": true
    }
   },
   "outputs": [],
   "source": [
    "def problem2(N, K, C):\n",
    "    #sort costs decreasing\n",
    "    C = sorted(C,reverse = True)\n",
    "    \n",
    "    #variable to store the cost\n",
    "    cost = 0\n",
    "    group = 0\n",
    "    \n",
    "    for i in range(N):\n",
    "        group = int(i/K +1)\n",
    "        cost = C[i]*group + cost\n",
    "        \n",
    "\n",
    "    return(cost)\n"
   ]
  },
  {
   "cell_type": "code",
   "execution_count": 36,
   "metadata": {
    "deletable": false,
    "editable": false,
    "nbgrader": {
     "checksum": "81aed62856603ba812199d5cd7fd8e9c",
     "grade": true,
     "grade_id": "cell-681343a4d7e22bbd",
     "locked": true,
     "points": 25,
     "schema_version": 1,
     "solution": false
    }
   },
   "outputs": [],
   "source": [
    "# Test cases for Problem Set 4\n",
    "import random\n",
    "random.seed(100)\n",
    "N=random.randint(1,100) \n",
    "K=random.randint(1,100)   \n",
    "C = [random.randint(1,1000) for i in range(N)]\n",
    "assert problem2(N, K, C) == 8838"
   ]
  },
  {
   "cell_type": "code",
   "execution_count": 37,
   "metadata": {
    "deletable": false,
    "editable": false,
    "nbgrader": {
     "checksum": "905fe1877666d60eee4b5bc91155fb80",
     "grade": true,
     "grade_id": "cell-402bf89f76c4bd42",
     "locked": true,
     "points": 25,
     "schema_version": 1,
     "solution": false
    }
   },
   "outputs": [],
   "source": [
    "import random\n",
    "random.seed(10)\n",
    "N=random.randint(1,100) \n",
    "K=random.randint(1,100)   \n",
    "C = [random.randint(1,1000) for i in range(N)]\n",
    "assert problem2(N, K, C) == 193878"
   ]
  },
  {
   "cell_type": "code",
   "execution_count": null,
   "metadata": {},
   "outputs": [],
   "source": []
  }
 ],
 "metadata": {
  "kernelspec": {
   "display_name": "Python 3",
   "language": "python",
   "name": "python3"
  },
  "language_info": {
   "codemirror_mode": {
    "name": "ipython",
    "version": 3
   },
   "file_extension": ".py",
   "mimetype": "text/x-python",
   "name": "python",
   "nbconvert_exporter": "python",
   "pygments_lexer": "ipython3",
   "version": "3.8.8"
  },
  "toc": {
   "colors": {
    "hover_highlight": "#DAA520",
    "navigate_num": "#000000",
    "navigate_text": "#333333",
    "running_highlight": "#FF0000",
    "selected_highlight": "#FFD700",
    "sidebar_border": "#EEEEEE",
    "wrapper_background": "#FFFFFF"
   },
   "moveMenuLeft": true,
   "nav_menu": {
    "height": "30px",
    "width": "252px"
   },
   "navigate_menu": true,
   "number_sections": true,
   "sideBar": true,
   "skip_h1_title": false,
   "threshold": 4,
   "toc_cell": false,
   "toc_position": {},
   "toc_section_display": "block",
   "toc_window_display": false,
   "widenNotebook": false
  }
 },
 "nbformat": 4,
 "nbformat_minor": 2
}
